{
 "cells": [
  {
   "cell_type": "code",
   "execution_count": 1,
   "metadata": {},
   "outputs": [],
   "source": [
    "import time\n",
    "import numpy as np\n",
    "import pandas as pd\n",
    "from sklearn.feature_extraction.text import CountVectorizer\n",
    "from scipy.stats import kstest, norm\n",
    "from scipy import stats as sps\n",
    "from matplotlib import pyplot as plt\n",
    "from mpl_toolkits.mplot3d import Axes3D\n",
    "from IPython.display import display, Latex\n",
    "from sklearn import preprocessing as sklpp\n",
    "from sklearn import decomposition as skldecomp\n",
    "from sklearn.naive_bayes import GaussianNB\n",
    "from sklearn.discriminant_analysis import LinearDiscriminantAnalysis, QuadraticDiscriminantAnalysis\n",
    "from sklearn.decomposition import PCA\n",
    "from sklearn import metrics\n",
    "from sklearn.metrics import confusion_matrix, classification_report, accuracy_score\n",
    "from sklearn.model_selection import KFold"
   ]
  },
  {
   "cell_type": "markdown",
   "metadata": {},
   "source": [
    "# Dataset 3- SMS Spam Collection Dataset\n"
   ]
  },
  {
   "cell_type": "markdown",
   "metadata": {},
   "source": [
    "## 3.a"
   ]
  },
  {
   "cell_type": "markdown",
   "metadata": {},
   "source": [
    "This is the third and final dataset explored for this project. It is a text-based dataset that contains 5574 samples of text messages labeled as Spam or Ham, with Ham meaning not spam. "
   ]
  },
  {
   "cell_type": "markdown",
   "metadata": {},
   "source": [
    "For this dataset, Gaussian Naive Bayes, Linear Discriminant Analysis (LDA), and Quadratic Discriminant Analysis (QDA) will be the methods used. "
   ]
  },
  {
   "cell_type": "code",
   "execution_count": 2,
   "metadata": {},
   "outputs": [
    {
     "name": "stdout",
     "output_type": "stream",
     "text": [
      "(5574, 2)\n"
     ]
    },
    {
     "data": {
      "text/html": [
       "<div>\n",
       "<style scoped>\n",
       "    .dataframe tbody tr th:only-of-type {\n",
       "        vertical-align: middle;\n",
       "    }\n",
       "\n",
       "    .dataframe tbody tr th {\n",
       "        vertical-align: top;\n",
       "    }\n",
       "\n",
       "    .dataframe thead th {\n",
       "        text-align: right;\n",
       "    }\n",
       "</style>\n",
       "<table border=\"1\" class=\"dataframe\">\n",
       "  <thead>\n",
       "    <tr style=\"text-align: right;\">\n",
       "      <th></th>\n",
       "      <th>Label</th>\n",
       "      <th>SMS</th>\n",
       "    </tr>\n",
       "  </thead>\n",
       "  <tbody>\n",
       "    <tr>\n",
       "      <td>0</td>\n",
       "      <td>ham</td>\n",
       "      <td>Go until jurong point, crazy.. Available only ...</td>\n",
       "    </tr>\n",
       "    <tr>\n",
       "      <td>1</td>\n",
       "      <td>ham</td>\n",
       "      <td>Ok lar... Joking wif u oni...</td>\n",
       "    </tr>\n",
       "    <tr>\n",
       "      <td>2</td>\n",
       "      <td>spam</td>\n",
       "      <td>Free entry in 2 a wkly comp to win FA Cup fina...</td>\n",
       "    </tr>\n",
       "    <tr>\n",
       "      <td>3</td>\n",
       "      <td>ham</td>\n",
       "      <td>U dun say so early hor... U c already then say...</td>\n",
       "    </tr>\n",
       "    <tr>\n",
       "      <td>4</td>\n",
       "      <td>ham</td>\n",
       "      <td>Nah I don't think he goes to usf, he lives aro...</td>\n",
       "    </tr>\n",
       "    <tr>\n",
       "      <td>...</td>\n",
       "      <td>...</td>\n",
       "      <td>...</td>\n",
       "    </tr>\n",
       "    <tr>\n",
       "      <td>5569</td>\n",
       "      <td>spam</td>\n",
       "      <td>This is the 2nd time we have tried 2 contact u...</td>\n",
       "    </tr>\n",
       "    <tr>\n",
       "      <td>5570</td>\n",
       "      <td>ham</td>\n",
       "      <td>Will Ã¼ b going to esplanade fr home?</td>\n",
       "    </tr>\n",
       "    <tr>\n",
       "      <td>5571</td>\n",
       "      <td>ham</td>\n",
       "      <td>Pity, * was in mood for that. So...any other s...</td>\n",
       "    </tr>\n",
       "    <tr>\n",
       "      <td>5572</td>\n",
       "      <td>ham</td>\n",
       "      <td>The guy did some bitching but I acted like i'd...</td>\n",
       "    </tr>\n",
       "    <tr>\n",
       "      <td>5573</td>\n",
       "      <td>ham</td>\n",
       "      <td>Rofl. Its true to its name</td>\n",
       "    </tr>\n",
       "  </tbody>\n",
       "</table>\n",
       "<p>5574 rows × 2 columns</p>\n",
       "</div>"
      ],
      "text/plain": [
       "     Label                                                SMS\n",
       "0      ham  Go until jurong point, crazy.. Available only ...\n",
       "1      ham                      Ok lar... Joking wif u oni...\n",
       "2     spam  Free entry in 2 a wkly comp to win FA Cup fina...\n",
       "3      ham  U dun say so early hor... U c already then say...\n",
       "4      ham  Nah I don't think he goes to usf, he lives aro...\n",
       "...    ...                                                ...\n",
       "5569  spam  This is the 2nd time we have tried 2 contact u...\n",
       "5570   ham              Will Ã¼ b going to esplanade fr home?\n",
       "5571   ham  Pity, * was in mood for that. So...any other s...\n",
       "5572   ham  The guy did some bitching but I acted like i'd...\n",
       "5573   ham                         Rofl. Its true to its name\n",
       "\n",
       "[5574 rows x 2 columns]"
      ]
     },
     "execution_count": 2,
     "metadata": {},
     "output_type": "execute_result"
    }
   ],
   "source": [
    "## Importing the Dataset ##\n",
    "\n",
    "sms_spam = pd.read_csv('Dataset3/SMSSpamCollection.csv')\n",
    "\n",
    "print(sms_spam.shape)\n",
    "sms_spam"
   ]
  },
  {
   "cell_type": "code",
   "execution_count": 3,
   "metadata": {},
   "outputs": [
    {
     "data": {
      "text/html": [
       "<div>\n",
       "<style scoped>\n",
       "    .dataframe tbody tr th:only-of-type {\n",
       "        vertical-align: middle;\n",
       "    }\n",
       "\n",
       "    .dataframe tbody tr th {\n",
       "        vertical-align: top;\n",
       "    }\n",
       "\n",
       "    .dataframe thead th {\n",
       "        text-align: right;\n",
       "    }\n",
       "</style>\n",
       "<table border=\"1\" class=\"dataframe\">\n",
       "  <thead>\n",
       "    <tr style=\"text-align: right;\">\n",
       "      <th></th>\n",
       "      <th>SMS</th>\n",
       "    </tr>\n",
       "    <tr>\n",
       "      <th>Label</th>\n",
       "      <th></th>\n",
       "    </tr>\n",
       "  </thead>\n",
       "  <tbody>\n",
       "    <tr>\n",
       "      <td>ham</td>\n",
       "      <td>4827</td>\n",
       "    </tr>\n",
       "    <tr>\n",
       "      <td>spam</td>\n",
       "      <td>747</td>\n",
       "    </tr>\n",
       "  </tbody>\n",
       "</table>\n",
       "</div>"
      ],
      "text/plain": [
       "        SMS\n",
       "Label      \n",
       "ham    4827\n",
       "spam    747"
      ]
     },
     "execution_count": 3,
     "metadata": {},
     "output_type": "execute_result"
    }
   ],
   "source": [
    "sms_spam.groupby('Label').count()"
   ]
  },
  {
   "cell_type": "markdown",
   "metadata": {},
   "source": [
    "Visualization of the amount of SMS that are labeled as Ham, and Spam"
   ]
  },
  {
   "cell_type": "markdown",
   "metadata": {},
   "source": [
    "Albeit loading the Dataset onto a Pandas DataFrame, there are still extra steps that need to be taken in order to work with this dataset. Currently, the dataset tells us nothing, and any classification would be meaningless. In order to give this data some meaning, it will have to undergo some pre-processing."
   ]
  },
  {
   "cell_type": "markdown",
   "metadata": {},
   "source": [
    "## 3.b Pre Processing"
   ]
  },
  {
   "cell_type": "markdown",
   "metadata": {},
   "source": [
    "As mentioned previosly, this dataset cannot function in its current form, so I need to use what is known as a Bag of Words model in order to properly use it. <br>\n",
    "\n",
    "When working with text classification, it is important to remove any unwanted characters, such as punctuation or numbers as they will not be necessary. Additionally, all words must be converted to lowercase, just so that there are no word repetitions (i.e **Guy** and **guy** should be counted as the same, and not different). <br>"
   ]
  },
  {
   "cell_type": "code",
   "execution_count": 4,
   "metadata": {},
   "outputs": [],
   "source": [
    "# make all lowercase\n",
    "sms_spam['SMS'] = sms_spam['SMS'].str.lower()\n",
    "\n",
    "# remove all punctuations\n",
    "sms_spam['SMS'] = sms_spam['SMS'].str.replace('[^a-zA-Z]', ' ')"
   ]
  },
  {
   "cell_type": "code",
   "execution_count": 5,
   "metadata": {},
   "outputs": [
    {
     "data": {
      "text/html": [
       "<div>\n",
       "<style scoped>\n",
       "    .dataframe tbody tr th:only-of-type {\n",
       "        vertical-align: middle;\n",
       "    }\n",
       "\n",
       "    .dataframe tbody tr th {\n",
       "        vertical-align: top;\n",
       "    }\n",
       "\n",
       "    .dataframe thead th {\n",
       "        text-align: right;\n",
       "    }\n",
       "</style>\n",
       "<table border=\"1\" class=\"dataframe\">\n",
       "  <thead>\n",
       "    <tr style=\"text-align: right;\">\n",
       "      <th></th>\n",
       "      <th>Label</th>\n",
       "      <th>SMS</th>\n",
       "    </tr>\n",
       "  </thead>\n",
       "  <tbody>\n",
       "    <tr>\n",
       "      <td>0</td>\n",
       "      <td>ham</td>\n",
       "      <td>go until jurong point  crazy   available only ...</td>\n",
       "    </tr>\n",
       "    <tr>\n",
       "      <td>1</td>\n",
       "      <td>ham</td>\n",
       "      <td>ok lar    joking wif u oni</td>\n",
       "    </tr>\n",
       "    <tr>\n",
       "      <td>2</td>\n",
       "      <td>spam</td>\n",
       "      <td>free entry in   a wkly comp to win fa cup fina...</td>\n",
       "    </tr>\n",
       "    <tr>\n",
       "      <td>3</td>\n",
       "      <td>ham</td>\n",
       "      <td>u dun say so early hor    u c already then say</td>\n",
       "    </tr>\n",
       "    <tr>\n",
       "      <td>4</td>\n",
       "      <td>ham</td>\n",
       "      <td>nah i don t think he goes to usf  he lives aro...</td>\n",
       "    </tr>\n",
       "    <tr>\n",
       "      <td>...</td>\n",
       "      <td>...</td>\n",
       "      <td>...</td>\n",
       "    </tr>\n",
       "    <tr>\n",
       "      <td>5569</td>\n",
       "      <td>spam</td>\n",
       "      <td>this is the  nd time we have tried   contact u...</td>\n",
       "    </tr>\n",
       "    <tr>\n",
       "      <td>5570</td>\n",
       "      <td>ham</td>\n",
       "      <td>will    b going to esplanade fr home</td>\n",
       "    </tr>\n",
       "    <tr>\n",
       "      <td>5571</td>\n",
       "      <td>ham</td>\n",
       "      <td>pity    was in mood for that  so   any other s...</td>\n",
       "    </tr>\n",
       "    <tr>\n",
       "      <td>5572</td>\n",
       "      <td>ham</td>\n",
       "      <td>the guy did some bitching but i acted like i d...</td>\n",
       "    </tr>\n",
       "    <tr>\n",
       "      <td>5573</td>\n",
       "      <td>ham</td>\n",
       "      <td>rofl  its true to its name</td>\n",
       "    </tr>\n",
       "  </tbody>\n",
       "</table>\n",
       "<p>5574 rows × 2 columns</p>\n",
       "</div>"
      ],
      "text/plain": [
       "     Label                                                SMS\n",
       "0      ham  go until jurong point  crazy   available only ...\n",
       "1      ham                      ok lar    joking wif u oni   \n",
       "2     spam  free entry in   a wkly comp to win fa cup fina...\n",
       "3      ham  u dun say so early hor    u c already then say   \n",
       "4      ham  nah i don t think he goes to usf  he lives aro...\n",
       "...    ...                                                ...\n",
       "5569  spam  this is the  nd time we have tried   contact u...\n",
       "5570   ham              will    b going to esplanade fr home \n",
       "5571   ham  pity    was in mood for that  so   any other s...\n",
       "5572   ham  the guy did some bitching but i acted like i d...\n",
       "5573   ham                         rofl  its true to its name\n",
       "\n",
       "[5574 rows x 2 columns]"
      ]
     },
     "execution_count": 5,
     "metadata": {},
     "output_type": "execute_result"
    }
   ],
   "source": [
    "sms_spam"
   ]
  },
  {
   "cell_type": "code",
   "execution_count": 7,
   "metadata": {},
   "outputs": [
    {
     "name": "stdout",
     "output_type": "stream",
     "text": [
      "[[0 0 0 ... 0 0 0]\n",
      " [0 0 0 ... 0 0 0]\n",
      " [0 0 0 ... 0 0 0]\n",
      " ...\n",
      " [0 0 0 ... 0 0 0]\n",
      " [0 0 0 ... 0 0 0]\n",
      " [0 0 0 ... 0 0 0]]\n"
     ]
    }
   ],
   "source": [
    "vectorizer = CountVectorizer(max_features=1000) # max_features=1000 -> use the 1000 most common words\n",
    "\n",
    "notorious_big = vectorizer.fit_transform(sms_spam['SMS'].values) # variabled named after 1992 rapper Notorious B.I.G\n",
    "\n",
    "words_list = vectorizer.get_feature_names()\n",
    "X = notorious_big.toarray() # simple variable name for the dataset independent variables \n",
    "print(X)\n",
    "y = sms_spam.iloc[:, 0] # dependent variable"
   ]
  },
  {
   "cell_type": "markdown",
   "metadata": {},
   "source": [
    "## 3.c Feature Extraction"
   ]
  },
  {
   "cell_type": "markdown",
   "metadata": {},
   "source": [
    "For feature extraction, Principal Component Alalysis will be used in order to reduce the dimensionality of the data. PCA wil be used in a way that will retain most of the information  by transforming a larger dataset into a smaller dataset. It can make analyzing the data faster and easier. "
   ]
  },
  {
   "cell_type": "code",
   "execution_count": 11,
   "metadata": {},
   "outputs": [
    {
     "data": {
      "text/plain": [
       "Text(0.5, 0.91, '90% capture')"
      ]
     },
     "execution_count": 11,
     "metadata": {},
     "output_type": "execute_result"
    },
    {
     "data": {
      "image/png": "[encoded data removed]",
      "text/plain": [
       "<Figure size 432x288 with 1 Axes>"
      ]
     },
     "metadata": {
      "needs_background": "light"
     },
     "output_type": "display_data"
    }
   ],
   "source": [
    "pca = PCA().fit(X.data)\n",
    "plt.plot(np.cumsum(pca.explained_variance_ratio_))\n",
    "plt.xlabel('number of components')\n",
    "plt.ylabel('cumulative explained variance')\n",
    "\n",
    "plt.axhline(y=0.95, color='r', linestyle='-')\n",
    "plt.axhline(y=0.70, color='r', linestyle='-')\n",
    "plt.axhline(y=0.9, color='g', linestyle='-') # capture 90% of the energy \n",
    "plt.text(0.5, 0.8, '70-95% cut-off threshold', color = 'red', fontsize=16)\n",
    "plt.text(0.5, 0.91, '90% capture', color = 'green', fontsize=12)"
   ]
  },
  {
   "cell_type": "markdown",
   "metadata": {},
   "source": [
    "By using a method similar to Dataset1, we can see what would be a good number of components for the PCA dataset. If we want to capture 90% of the energy, the dataset will reduce from 1000 features to around 400 features. "
   ]
  },
  {
   "cell_type": "code",
   "execution_count": 12,
   "metadata": {},
   "outputs": [
    {
     "name": "stdout",
     "output_type": "stream",
     "text": [
      "PCA on SMS Dataset:  (5574, 399)\n"
     ]
    }
   ],
   "source": [
    "sms_pca = skldecomp.PCA(n_components=0.9, svd_solver='full')\n",
    "sms_features = sms_pca.fit_transform(X)\n",
    "print(\"PCA on SMS Dataset: \",sms_features.shape)"
   ]
  },
  {
   "cell_type": "markdown",
   "metadata": {},
   "source": [
    "## 3.d Processing the Datasets"
   ]
  },
  {
   "cell_type": "markdown",
   "metadata": {},
   "source": [
    "Now that the data is ready to be utilized by the Machine Learning Methods that will be used. <br>\n",
    "\n",
    "As mentioned previously, the following methods will be used with this dataset: \n",
    "- Gaussian Naive Bayes Classifier (GNB)\n",
    "- Linear Discriminant Analysis (LDA)\n",
    "- Quadratric Discriminant Analysis (QDA)\n",
    "\n",
    "A question that comes to mind is, why these specific methods? The reason these methods were chose was because they all follow a Gaussian distribution. Due to the high dimensionality of our data, it is impossible to plot and show that the distributions are Normal. By using a test known as the Kolmogorov Smirnov test<sup>[6]</sup>, we can get a more definitive answer as to wether or not our Dataset has normal distribution <br>\n",
    "\n",
    "By using the KS Test, if the datatset follows a normal distribution, then the value of *ks_statistic* will be about 0. Then, we use the *p_value* to decide difference is large enough to reject if the dataset has a normal distribution. \n",
    "- if the *p_value* > 0.05, we assume normal distribution\n",
    "- if the *p_value* < 0.05, we do not assume normal distribution"
   ]
  },
  {
   "cell_type": "code",
   "execution_count": 46,
   "metadata": {},
   "outputs": [
    {
     "name": "stdout",
     "output_type": "stream",
     "text": [
      "0.019886896059341796 0.816249424789363\n"
     ]
    }
   ],
   "source": [
    "X2 = X # copy of the dataset so that the KS Test does not mess up the original dataset \n",
    "X2 = norm.rvs(size=1000)\n",
    "ks_statistic, p_value = kstest(X2, 'norm')\n",
    "print(ks_statistic, p_value)"
   ]
  },
  {
   "cell_type": "markdown",
   "metadata": {},
   "source": [
    "Since the *ks_statistic* value is almost 0, and the *p_value* is much greater than 0.05, we can safely assume that our data follows a normal distribution, and thus allows us to make use of GNB, LDA and QDA"
   ]
  },
  {
   "cell_type": "markdown",
   "metadata": {},
   "source": [
    "### 3.d.i Gaussian Naive Bayes (GNB) Classifier"
   ]
  },
  {
   "cell_type": "markdown",
   "metadata": {},
   "source": [
    "As its name implies, the GBN Classifier utilizes a Gaussian Naive Bayes likelihood for classification. The Gaussian Naive Bayes is assumed Gaussian with:\n",
    "\n",
    "<center> P(x<sub>i</sub>|y) = $\\frac{1}{\\sqrt(2\\pi\\sigma^2}exp(-\\frac{(x_i-\\mu_y)^2}{2\\sigma_2^2})$  </center>\n",
    "\n",
    "with the parameters $\\sigma_y$ and $\\mu_y$ are estimated from the Maximum Likelihood. <br>\n",
    "\n",
    "K-Fold Cross Validation will be ran with K = 5 for checking performance. "
   ]
  },
  {
   "cell_type": "code",
   "execution_count": 26,
   "metadata": {},
   "outputs": [
    {
     "name": "stdout",
     "output_type": "stream",
     "text": [
      "Average Accurary: 0.7865105344937244\n",
      "Classification Report\n",
      "               precision    recall  f1-score   support\n",
      "\n",
      "         ham       0.98      0.78      0.87       970\n",
      "        spam       0.38      0.92      0.54       144\n",
      "\n",
      "    accuracy                           0.80      1114\n",
      "   macro avg       0.68      0.85      0.70      1114\n",
      "weighted avg       0.91      0.80      0.83      1114\n",
      "\n",
      "Average run time after doing 5-fold Cross Validation: 0.09887175559997559\n"
     ]
    }
   ],
   "source": [
    "gnb_run_time = [] # list of time for each iteration\n",
    "gnb_conf_matrix = [] # list of the confusion matrices for each iteration\n",
    "gnb_accuracy = [] # list of the accuracy for each iteration\n",
    "\n",
    "gnb_kfold = KFold(n_splits=5,shuffle=True) # initialize the kfold cross validation\n",
    "for train_index, test_index in gnb_kfold.split(X):\n",
    "    X_train, X_test = X[train_index], X[test_index] # Training Data, Test Data\n",
    "    y_train, y_test = y[train_index], y[test_index] # Training Data, Test Data\n",
    "    t0_gnb = time.time()\n",
    "    heavens_door = GaussianNB() # named after the Bob Dylan song-  Knockin' on Heaven's Door\n",
    "    heavens_door.fit(X_train,y_train) # fit to the GNB Classifier\n",
    "    Y_pred = heavens_door.predict(X_test) # predict class\n",
    "    gnb_time = time.time()-t0_gnb\n",
    "    gnb_run_time.append(gnb_time)\n",
    "    gnb_cm = confusion_matrix(y_test, Y_pred) # confusion matrix\n",
    "    gnb_conf_matrix.append(gnb_cm)\n",
    "    gnb_cr = classification_report(y_test, Y_pred) # classification report - shows main classification metrics\n",
    "    accuracy_gnb = accuracy_score(y_test, Y_pred) # accuracy\n",
    "    gnb_accuracy.append(accuracy_gnb)\n",
    "\n",
    "average_gnb_accuracy = sum(gnb_accuracy)/5\n",
    "print(\"Average Accurary:\",average_gnb_accuracy)\n",
    "print(\"Classification Report\\n\",gnb_cr)\n",
    "average_gnb_time = sum(gnb_run_time)/5\n",
    "print(\"Average run time after doing 5-fold Cross Validation:\", average_gnb_time)"
   ]
  },
  {
   "cell_type": "markdown",
   "metadata": {},
   "source": [
    "### 3.d.ii Linear Discriminant Analysis (LDA) Classifier"
   ]
  },
  {
   "cell_type": "markdown",
   "metadata": {},
   "source": [
    "The next machine learning method that will be used in this dataset is Classification with Linear Discriminant Analysis. It is a Maximum A Posteriori (MAP) Classifier that assumes the likelihood functions to follow a Gaussian distribution, with different means but equal covariance matrices for each class. <br>\n",
    "\n",
    "We estimate the unbiased estimation of the covariance matrix as:\n",
    "\n",
    "<center>     $C $ = $\\frac{1}{n-L}$ $\\sum_{l = 1}^{L}$$\\sum_{i:y_i=L}^{} (x_i - \\mu_L)(x_i - \\mu_L)^T$       </center>\n",
    "\n",
    "And then, our Multivariate LDA Equation for classification is: \n",
    "\n",
    "<center>     $\\delta_L(x) $ = argmax $[x^T C^{-1} \\mu_L -\\frac{1}{2}  \\mu_L^T C^{-1} \\mu_L + ln(\\pi_L)$       </center>\n"
   ]
  },
  {
   "cell_type": "code",
   "execution_count": 49,
   "metadata": {},
   "outputs": [
    {
     "name": "stdout",
     "output_type": "stream",
     "text": [
      "Average Accurary: 0.9793536804308797\n",
      "Classification Report\n",
      "               precision    recall  f1-score   support\n",
      "\n",
      "         ham       0.98      0.99      0.99       970\n",
      "        spam       0.95      0.89      0.92       144\n",
      "\n",
      "    accuracy                           0.98      1114\n",
      "   macro avg       0.97      0.94      0.95      1114\n",
      "weighted avg       0.98      0.98      0.98      1114\n",
      "\n",
      "Average run time after doing 5-fold Cross Validation: 1.7674550533294677\n"
     ]
    }
   ],
   "source": [
    "lda_run_time = [] # list of time for each iteration\n",
    "lda_conf_matrix = [] # list of the confusion matrices for each iteration\n",
    "lda_accuracy = [] # list of the accuracy for each iteration\n",
    "\n",
    "lda_kfold = KFold(n_splits=5,shuffle=True) # initialize the kfold cross validation\n",
    "for lda_train_index, lda_test_index in lda_kfold.split(X):\n",
    "    lda_X_train, lda_X_test = X[train_index], X[test_index] # Training Data, Test Data\n",
    "    lda_y_train, lda_y_test = y[train_index], y[test_index] # Training Data, Test Data\n",
    "    t0_lda = time.time()\n",
    "    earth_wind_fire = LinearDiscriminantAnalysis() # named after the 1969 band Earth, Wind & Fire \n",
    "    earth_wind_fire.fit(lda_X_train,lda_y_train) # fit to the LDA Classifier\n",
    "    lda_Y_pred = earth_wind_fire.predict(lda_X_test) # predict class\n",
    "    lda_time = time.time()-t0_lda\n",
    "    lda_run_time.append(lda_time)\n",
    "    lda_cm = confusion_matrix(lda_y_test, lda_Y_pred) # confusion matrix\n",
    "    lda_conf_matrix.append(lda_cm)\n",
    "    lda_cr = classification_report(lda_y_test, lda_Y_pred) # classification report - shows main classification metrics\n",
    "    accuracy_lda = accuracy_score(lda_y_test, lda_Y_pred) # accuracy\n",
    "    lda_accuracy.append(accuracy_lda)\n",
    "\n",
    "average_lda_accuracy = sum(lda_accuracy)/5\n",
    "print(\"Average Accurary:\",average_lda_accuracy)\n",
    "print(\"Classification Report\\n\",lda_cr)\n",
    "average_lda_time = sum(lda_run_time)/5\n",
    "print(\"Average run time after doing 5-fold Cross Validation:\", average_lda_time)"
   ]
  },
  {
   "cell_type": "markdown",
   "metadata": {},
   "source": [
    "### 3.d.iii Quadratic Discriminant Analysis (LDA) Classifier"
   ]
  },
  {
   "cell_type": "markdown",
   "metadata": {},
   "source": [
    "Finally, the last method employed in this dataset is Classification with Quadratic Discriminant Analysis. It is similar to LDA except that both the mean and covariance matrix are different for any class. <br>\n",
    "\n",
    "We estimate the unbiased estimation of the covariance matrix as:\n",
    "\n",
    "<center>    $C_L $ = $\\frac{1}{n_L-L}$ $\\sum_{l = 1}^{L}$$\\sum_{i:y_i=L}^{} (x_i - \\mu_L)(x_i - \\mu_L)^T$      </center>\n",
    "\n",
    "And then, our Multivariate QDA Equation for classification is: \n",
    "\n",
    "<center>    $\\delta_L(x) $ = argmax $[-\\frac{1}{2}x^{T}C_L^{-1}x + x^{T}C_L^{-1}\\mu_L -\\frac{1}{2} \\mu_L^T C_L^{-1} \\mu_L - \\frac{1}{2}(det(C_L)) + ln(\\pi_L)]$      </center>"
   ]
  },
  {
   "cell_type": "code",
   "execution_count": 54,
   "metadata": {},
   "outputs": [
    {
     "name": "stderr",
     "output_type": "stream",
     "text": [
      "c:\\users\\robert\\appdata\\local\\programs\\python\\python37-32\\lib\\site-packages\\sklearn\\discriminant_analysis.py:715: UserWarning: Variables are collinear\n",
      "  warnings.warn(\"Variables are collinear\")\n",
      "c:\\users\\robert\\appdata\\local\\programs\\python\\python37-32\\lib\\site-packages\\sklearn\\discriminant_analysis.py:715: UserWarning: Variables are collinear\n",
      "  warnings.warn(\"Variables are collinear\")\n",
      "c:\\users\\robert\\appdata\\local\\programs\\python\\python37-32\\lib\\site-packages\\sklearn\\discriminant_analysis.py:715: UserWarning: Variables are collinear\n",
      "  warnings.warn(\"Variables are collinear\")\n",
      "c:\\users\\robert\\appdata\\local\\programs\\python\\python37-32\\lib\\site-packages\\sklearn\\discriminant_analysis.py:715: UserWarning: Variables are collinear\n",
      "  warnings.warn(\"Variables are collinear\")\n",
      "c:\\users\\robert\\appdata\\local\\programs\\python\\python37-32\\lib\\site-packages\\sklearn\\discriminant_analysis.py:715: UserWarning: Variables are collinear\n",
      "  warnings.warn(\"Variables are collinear\")\n"
     ]
    },
    {
     "name": "stdout",
     "output_type": "stream",
     "text": [
      "Average Accurary: 0.9630420816191801\n",
      "Classification Report\n",
      "               precision    recall  f1-score   support\n",
      "\n",
      "         ham       0.96      0.99      0.98       956\n",
      "        spam       0.94      0.77      0.84       158\n",
      "\n",
      "    accuracy                           0.96      1114\n",
      "   macro avg       0.95      0.88      0.91      1114\n",
      "weighted avg       0.96      0.96      0.96      1114\n",
      "\n",
      "Average run time after doing 5-fold Cross Validation: 1.7138815879821778\n"
     ]
    }
   ],
   "source": [
    "qda_run_time = [] # list of time for each iteration\n",
    "qda_conf_matrix = [] # list of the confusion matrices for each iteration\n",
    "qda_accuracy = [] # list of the accuracy for each iteration\n",
    "\n",
    "qda_kfold = KFold(n_splits=5,shuffle=True) # initialize the kfold cross validation\n",
    "for train_index, test_index in qda_kfold.split(X):\n",
    "    qda_X_train, qda_X_test = X[train_index], X[test_index] # Training Data, Test Data\n",
    "    qda_y_train, qda_y_test = y[train_index], y[test_index] # Training Data, Test Data\n",
    "    t0_qda = time.time()\n",
    "    yellow_submarine = QuadraticDiscriminantAnalysis() # named after The Beatles Song- Yellow Submarine \n",
    "    yellow_submarine.fit(qda_X_train,qda_y_train) # fit to the QDA Classifier\n",
    "    qda_Y_pred = yellow_submarine.predict(qda_X_test) # predict class\n",
    "    qda_time = time.time()-t0_qda\n",
    "    qda_run_time.append(qda_time)\n",
    "    qda_cm = confusion_matrix(qda_y_test, qda_Y_pred) # confusion matrix\n",
    "    qda_conf_matrix.append(qda_cm)\n",
    "    qda_cr = classification_report(qda_y_test, qda_Y_pred) # classification report - shows main classification metrics\n",
    "    accuracy_qda = accuracy_score(qda_y_test, qda_Y_pred) # accuracy\n",
    "    qda_accuracy.append(accuracy_qda)\n",
    "\n",
    "average_qda_accuracy = sum(qda_accuracy)/5\n",
    "print(\"Average Accurary:\",average_qda_accuracy)\n",
    "print(\"Classification Report\\n\",qda_cr)\n",
    "average_qda_time = sum(qda_run_time)/5\n",
    "print(\"Average run time after doing 5-fold Cross Validation:\", average_qda_time)"
   ]
  },
  {
   "cell_type": "markdown",
   "metadata": {},
   "source": [
    "## 3.e Comparative Analysis"
   ]
  },
  {
   "cell_type": "code",
   "execution_count": 55,
   "metadata": {},
   "outputs": [
    {
     "name": "stdout",
     "output_type": "stream",
     "text": [
      "GNB run time after doing 5-fold Cross Validation (seconds): 0.09887175559997559\n",
      "LDA run time after doing 5-fold Cross Validation (seconds): 1.7674550533294677\n",
      "QDA run time after doing 5-fold Cross Validation (seconds): 1.7138815879821778\n"
     ]
    }
   ],
   "source": [
    "print(\"GNB run time after doing 5-fold Cross Validation (seconds):\", average_gnb_time)\n",
    "print(\"LDA run time after doing 5-fold Cross Validation (seconds):\", average_lda_time)\n",
    "print(\"QDA run time after doing 5-fold Cross Validation (seconds):\", average_qda_time)"
   ]
  },
  {
   "cell_type": "markdown",
   "metadata": {},
   "source": [
    "When it comes to the speed of various methods that were used, Gaussian Naive Bayes is by far the fastest of the three, followed by QDA and finally LDA surprisingly. When it comes to the K-Fold Cross validation, shuffling was used, which shuffles the data before before splitting into the folds. "
   ]
  },
  {
   "cell_type": "code",
   "execution_count": 56,
   "metadata": {},
   "outputs": [
    {
     "name": "stdout",
     "output_type": "stream",
     "text": [
      "Average GNB Accurary: 0.7865105344937244\n",
      "Average LDA Accurary: 0.9793536804308797\n",
      "Average QDA Accurary: 0.9630420816191801\n"
     ]
    }
   ],
   "source": [
    "print(\"Average GNB Accurary:\",average_gnb_accuracy)\n",
    "print(\"Average LDA Accurary:\",average_lda_accuracy)\n",
    "print(\"Average QDA Accurary:\",average_qda_accuracy)"
   ]
  },
  {
   "cell_type": "markdown",
   "metadata": {},
   "source": [
    "Next, the three methods have varying accuracy, with LDA having the highest accuracy out of the three methods. GNB has the lowest accuracy with only 78.6%, much lower than QDA and LDA. Both of these classifiers are almost classifying correctly, as seen with LDA having, rounding up, a 98% accuracy and QDA having a 96.3% accuracy. <br>\n",
    "\n",
    "Now, time to take a look at the confusion matrices<sup>[7]</sup>, which are the sum of the covariances per each iteration of the kfold cross validation.<sup>[5]</sup>"
   ]
  },
  {
   "cell_type": "code",
   "execution_count": 52,
   "metadata": {},
   "outputs": [
    {
     "name": "stdout",
     "output_type": "stream",
     "text": [
      "[[3693 1134]\n",
      " [  56  691]]\n"
     ]
    },
    {
     "data": {
      "image/png": "[encoded data removed]",
      "text/plain": [
       "<Figure size 288x288 with 2 Axes>"
      ]
     },
     "metadata": {
      "needs_background": "light"
     },
     "output_type": "display_data"
    }
   ],
   "source": [
    "overall_conf_gnb = sum(gnb_conf_matrix) # overall GNB confusion matrix \n",
    "\n",
    "print(overall_conf_gnb)\n",
    "\n",
    "plt.matshow(overall_conf_gnb, cmap= 'plasma') # using the plasma cmap color for easier visualization between the shades of color\n",
    "plt.title('Confusion matrix')\n",
    "plt.colorbar()\n",
    "plt.ylabel('True label')\n",
    "plt.xlabel('Predicted label')\n",
    "plt.show()"
   ]
  },
  {
   "cell_type": "code",
   "execution_count": 53,
   "metadata": {},
   "outputs": [
    {
     "name": "stdout",
     "output_type": "stream",
     "text": [
      "[[4815   35]\n",
      " [  80  640]]\n"
     ]
    },
    {
     "data": {
      "image/png": "[encoded data removed]",
      "text/plain": [
       "<Figure size 288x288 with 2 Axes>"
      ]
     },
     "metadata": {
      "needs_background": "light"
     },
     "output_type": "display_data"
    }
   ],
   "source": [
    "overall_conf_lda = sum(lda_conf_matrix) # overall confusion matrix for LDA\n",
    "\n",
    "print(overall_conf_lda)\n",
    "plt.matshow(overall_conf_lda, cmap= 'plasma')\n",
    "plt.title('Confusion matrix')\n",
    "plt.colorbar()\n",
    "plt.ylabel('True label')\n",
    "plt.xlabel('Predicted label')\n",
    "plt.show()"
   ]
  },
  {
   "cell_type": "code",
   "execution_count": 57,
   "metadata": {},
   "outputs": [
    {
     "name": "stdout",
     "output_type": "stream",
     "text": [
      "[[4774   53]\n",
      " [ 153  594]]\n"
     ]
    },
    {
     "data": {
      "image/png": "[encoded data removed]",
      "text/plain": [
       "<Figure size 288x288 with 2 Axes>"
      ]
     },
     "metadata": {
      "needs_background": "light"
     },
     "output_type": "display_data"
    }
   ],
   "source": [
    "overall_conf_qda = sum(qda_conf_matrix) # get the overall confusion matrix\n",
    "\n",
    "print(overall_conf_qda)\n",
    "plt.matshow(overall_conf_qda, cmap= 'plasma')\n",
    "plt.title('Confusion matrix')\n",
    "plt.colorbar()\n",
    "plt.ylabel('True label')\n",
    "plt.xlabel('Predicted label')\n",
    "plt.show()"
   ]
  },
  {
   "cell_type": "markdown",
   "metadata": {},
   "source": [
    "Finally, we can see that the confusion matrices for each of the methods are almost the same. The rates for each of the methods are the following:\n",
    "- True Positive Rate:\n",
    "    - GNB: 0.76\n",
    "    - LDA: 0.99\n",
    "    - QDA: 0.98\n",
    "- True Negative Rate:\n",
    "    - GNB: 0.92\n",
    "    - LDA: 0.88\n",
    "    - QDA: 0.79\n",
    "- False Positive Rate:\n",
    "    - GNB: 0.23\n",
    "    - LDA: 0.05\n",
    "    - QDA: 0.08\n",
    "- False Negative Rate:\n",
    "    - GNB: 0.01\n",
    "    - LDA: 0.01\n",
    "    - QDA: 0.03"
   ]
  },
  {
   "cell_type": "markdown",
   "metadata": {},
   "source": [
    "When it comes to selecting one of the three methods, it has to be the one with the best results. For this dataset, LDA gives the best results. Albeit being the slowest with a time of 1.76s compared so the other two, it has an outstanding 98% accuracy, the highest of the three and the various rates are also extremly good. <br>\n",
    "\n",
    "For these reasons, LDA is the method that should be selected. "
   ]
  },
  {
   "cell_type": "markdown",
   "metadata": {},
   "source": [
    "## 3.f Ethical Issues"
   ]
  },
  {
   "cell_type": "markdown",
   "metadata": {},
   "source": [
    "This dataset is just a simple method of classifying text, and the way it is classified is either as spam or not spam. Depending on how similar models are used, it can both benefit, or cause detriments, to society. <br>\n",
    "\n",
    "Some ways that it can benefit the individual is, similar to the task in this dataset, filter out spam from normal messages, or e-mail. With a good enough collection of data, it is possible to classify as in this dataset, which can improve the lives of individuals who have to constantly check their e-mails or messages to make sure that what they are receicing is legitemate. <br>\n",
    "\n",
    "Unfortunately, there is an ugly darkside to using these sorts of methods. It can show existing prejudices that were not in sight. There was such a case at Amazon, in which a recruiting tool dismissed female candidates, which was trained on historical hiring decisions, due to the use of gendered words<sup>[9]</sup>. That doesn't stop there either, as even ignoring gendered words, there were implicit words that still correlated with either men and women, and still made discriminatory decisions<sup>[9]</sup>. Due to these issues, it is clear that while Machine Learning tasks can be used in a variety of ways to help out in many areas of our lives, but the training for the task has to be done carefully. <br>\n",
    "\n",
    "For ML Engineers, it is essential that when an algorithm is trained, it should be done so that it can be both fair and without discrimination, even unintentionally. In a perfect world, this would be the case, but alas, this is far from a perfect world and thus data could potentually be riddled with biases that are not normally observed. As was in the case of Amazon, the best course of action in such a case, would be to fix the causes of the biases, and keep tuning our methods so that they can be as fair as possible. "
   ]
  },
  {
   "cell_type": "markdown",
   "metadata": {},
   "source": [
    "## 3.g References used in this Dataset"
   ]
  },
  {
   "cell_type": "markdown",
   "metadata": {},
   "source": [
    "1)<br>\n",
    "Horbonos (Midvel Corp), Pavel. “How to Build and Apply Naive Bayes Classification for Spam Filtering.” Medium, Towards Data Science, 31 Jan. 2020, https://towardsdatascience.com/how-to-build-and-apply-naive-bayes-classification-for-spam-filtering-2b8d3308501.\n",
    "\n",
    "2)<br>\n",
    "Rajendran, Charles. “Text Classification Using the Bag Of Words Approach with NLTK and Scikit Learn.” Medium, The Startup, 7 May 2020, https://medium.com/swlh/text-classification-using-the-bag-of-words-approach-with-nltk-and-scikit-learn-9a731e5c4e2f\\.\n",
    "\n",
    "3)<br>\n",
    "Brownlee, Jason. “How to Encode Text Data for Machine Learning with Scikit-Learn.” Machine Learning Mastery, 27 June 2020, https://machinelearningmastery.com/prepare-text-data-machine-learning-scikit-learn/.\n",
    "\n",
    "4)<br>\n",
    "Jaadi, Zakaria. “A Step-by-Step Explanation of Principal Component Analysis.” Built In, Sept. 2019, https://builtin.com/data-science/step-step-explanation-principal-component-analysis.\n",
    "\n",
    "5)<br>\n",
    "Jain, Ritika. (2020). Re: How can I create a single confusion matrix after K fold cross validation ?. Retrieved from: https://www.researchgate.net/post/How_can_I_create_a_single_confusion_matrix_after_K_fold_cross_validation/5f89d22d29ccb76f7031a5d3/citation/download. \n",
    "\n",
    "6)<br>\n",
    "Korstanje, Joos. “6 Ways to Test for a Normal Distribution - Which One to Use?” Medium, Towards Data Science, 17 Feb. 2020, https://towardsdatascience.com/6-ways-to-test-for-a-normal-distribution-which-one-to-use-9dcf47d8fa93.\n",
    "\n",
    "7)<br>\n",
    "hmghalyhmghaly 1, et al. “Sklearn Plot Confusion Matrix with Labels.” Stack Overflow, 1 Nov. 1962, https://stackoverflow.com/questions/19233771/sklearn-plot-confusion-matrix-with-labels/48018785\n",
    "\n",
    "8)<br>\n",
    "“What Do We Do About the Biases in AI?” Harvard Business Review, 25 Oct. 2019, hbr.org/2019/10/what-do-we-do-about-the-biases-in-ai.\n",
    "\n",
    "9)<br>\n",
    "Hao, Karen. “This Is How AI Bias Really Happens-and Why It's so Hard to Fix.” MIT Technology Review, MIT Technology Review, 2 Apr. 2020, www.technologyreview.com/2019/02/04/137602/this-is-how-ai-bias-really-happensand-why-its-so-hard-to-fix/."
   ]
  }
 ],
 "metadata": {
  "kernelspec": {
   "display_name": "Python 3",
   "language": "python",
   "name": "python3"
  },
  "language_info": {
   "codemirror_mode": {
    "name": "ipython",
    "version": 3
   },
   "file_extension": ".py",
   "mimetype": "text/x-python",
   "name": "python",
   "nbconvert_exporter": "python",
   "pygments_lexer": "ipython3",
   "version": "3.7.3"
  }
 },
 "nbformat": 4,
 "nbformat_minor": 2
}
