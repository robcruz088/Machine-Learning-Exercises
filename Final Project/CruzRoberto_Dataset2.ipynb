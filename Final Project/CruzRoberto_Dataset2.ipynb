{
 "cells": [
  {
   "cell_type": "code",
   "execution_count": 1,
   "metadata": {},
   "outputs": [],
   "source": [
    "import time\n",
    "import numpy as np\n",
    "import pandas as pd\n",
    "from PIL import Image\n",
    "from scipy import stats as sps\n",
    "from matplotlib import pyplot as plt\n",
    "from mpl_toolkits.mplot3d import Axes3D\n",
    "from IPython.display import display, Latex\n",
    "from sklearn import preprocessing as sklpp\n",
    "from sklearn import decomposition as skldecomp\n",
    "from sklearn.model_selection import train_test_split\n",
    "from sklearn.svm import SVC\n",
    "from sklearn.preprocessing import StandardScaler\n",
    "from sklearn.neighbors import KNeighborsClassifier\n",
    "from sklearn.linear_model import LogisticRegression\n",
    "from sklearn.pipeline import Pipeline\n",
    "from sklearn.multiclass import OneVsRestClassifier\n",
    "from sklearn.decomposition import PCA\n",
    "from sklearn import metrics\n",
    "from sklearn.metrics import confusion_matrix, classification_report, accuracy_score\n",
    "from sklearn.model_selection import KFold\n",
    "from sklearn.model_selection import GridSearchCV"
   ]
  },
  {
   "cell_type": "markdown",
   "metadata": {},
   "source": [
    "# Dataset 2- German Traffic Sign Detection Benchmark Dataset\n"
   ]
  },
  {
   "cell_type": "markdown",
   "metadata": {},
   "source": [
    "## 2.a"
   ]
  },
  {
   "cell_type": "markdown",
   "metadata": {},
   "source": [
    "This is the second dataset explored in the project. It is an imaging dataset that contains around 50,000 images, each belonging to one of the 43 classes. <br>\n",
    "\n",
    "The methods selected for this dataset are Support Vector Machines, K-Nearest Neighbor, and Logistic Regression. "
   ]
  },
  {
   "cell_type": "code",
   "execution_count": 2,
   "metadata": {},
   "outputs": [],
   "source": [
    "## Importing the Dataset ##\n",
    "\n",
    "# using the paths from the provided CSV\n",
    "img_path = pd.read_csv('Dataset2/Train.csv')"
   ]
  },
  {
   "cell_type": "code",
   "execution_count": 3,
   "metadata": {},
   "outputs": [
    {
     "data": {
      "text/html": [
       "<div>\n",
       "<style scoped>\n",
       "    .dataframe tbody tr th:only-of-type {\n",
       "        vertical-align: middle;\n",
       "    }\n",
       "\n",
       "    .dataframe tbody tr th {\n",
       "        vertical-align: top;\n",
       "    }\n",
       "\n",
       "    .dataframe thead th {\n",
       "        text-align: right;\n",
       "    }\n",
       "</style>\n",
       "<table border=\"1\" class=\"dataframe\">\n",
       "  <thead>\n",
       "    <tr style=\"text-align: right;\">\n",
       "      <th></th>\n",
       "      <th>Width</th>\n",
       "      <th>Height</th>\n",
       "      <th>Roi.X1</th>\n",
       "      <th>Roi.Y1</th>\n",
       "      <th>Roi.X2</th>\n",
       "      <th>Roi.Y2</th>\n",
       "      <th>ClassId</th>\n",
       "      <th>Path</th>\n",
       "    </tr>\n",
       "  </thead>\n",
       "  <tbody>\n",
       "    <tr>\n",
       "      <td>0</td>\n",
       "      <td>27</td>\n",
       "      <td>26</td>\n",
       "      <td>5</td>\n",
       "      <td>5</td>\n",
       "      <td>22</td>\n",
       "      <td>20</td>\n",
       "      <td>20</td>\n",
       "      <td>Train/20/00020_00000_00000.png</td>\n",
       "    </tr>\n",
       "    <tr>\n",
       "      <td>1</td>\n",
       "      <td>28</td>\n",
       "      <td>27</td>\n",
       "      <td>5</td>\n",
       "      <td>6</td>\n",
       "      <td>23</td>\n",
       "      <td>22</td>\n",
       "      <td>20</td>\n",
       "      <td>Train/20/00020_00000_00001.png</td>\n",
       "    </tr>\n",
       "    <tr>\n",
       "      <td>2</td>\n",
       "      <td>29</td>\n",
       "      <td>26</td>\n",
       "      <td>6</td>\n",
       "      <td>5</td>\n",
       "      <td>24</td>\n",
       "      <td>21</td>\n",
       "      <td>20</td>\n",
       "      <td>Train/20/00020_00000_00002.png</td>\n",
       "    </tr>\n",
       "    <tr>\n",
       "      <td>3</td>\n",
       "      <td>28</td>\n",
       "      <td>27</td>\n",
       "      <td>5</td>\n",
       "      <td>6</td>\n",
       "      <td>23</td>\n",
       "      <td>22</td>\n",
       "      <td>20</td>\n",
       "      <td>Train/20/00020_00000_00003.png</td>\n",
       "    </tr>\n",
       "    <tr>\n",
       "      <td>4</td>\n",
       "      <td>28</td>\n",
       "      <td>26</td>\n",
       "      <td>5</td>\n",
       "      <td>5</td>\n",
       "      <td>23</td>\n",
       "      <td>21</td>\n",
       "      <td>20</td>\n",
       "      <td>Train/20/00020_00000_00004.png</td>\n",
       "    </tr>\n",
       "    <tr>\n",
       "      <td>...</td>\n",
       "      <td>...</td>\n",
       "      <td>...</td>\n",
       "      <td>...</td>\n",
       "      <td>...</td>\n",
       "      <td>...</td>\n",
       "      <td>...</td>\n",
       "      <td>...</td>\n",
       "      <td>...</td>\n",
       "    </tr>\n",
       "    <tr>\n",
       "      <td>39204</td>\n",
       "      <td>52</td>\n",
       "      <td>56</td>\n",
       "      <td>5</td>\n",
       "      <td>6</td>\n",
       "      <td>47</td>\n",
       "      <td>51</td>\n",
       "      <td>42</td>\n",
       "      <td>Train/42/00042_00007_00025.png</td>\n",
       "    </tr>\n",
       "    <tr>\n",
       "      <td>39205</td>\n",
       "      <td>56</td>\n",
       "      <td>58</td>\n",
       "      <td>5</td>\n",
       "      <td>5</td>\n",
       "      <td>51</td>\n",
       "      <td>53</td>\n",
       "      <td>42</td>\n",
       "      <td>Train/42/00042_00007_00026.png</td>\n",
       "    </tr>\n",
       "    <tr>\n",
       "      <td>39206</td>\n",
       "      <td>58</td>\n",
       "      <td>62</td>\n",
       "      <td>5</td>\n",
       "      <td>6</td>\n",
       "      <td>53</td>\n",
       "      <td>57</td>\n",
       "      <td>42</td>\n",
       "      <td>Train/42/00042_00007_00027.png</td>\n",
       "    </tr>\n",
       "    <tr>\n",
       "      <td>39207</td>\n",
       "      <td>63</td>\n",
       "      <td>69</td>\n",
       "      <td>5</td>\n",
       "      <td>7</td>\n",
       "      <td>58</td>\n",
       "      <td>63</td>\n",
       "      <td>42</td>\n",
       "      <td>Train/42/00042_00007_00028.png</td>\n",
       "    </tr>\n",
       "    <tr>\n",
       "      <td>39208</td>\n",
       "      <td>68</td>\n",
       "      <td>69</td>\n",
       "      <td>7</td>\n",
       "      <td>6</td>\n",
       "      <td>62</td>\n",
       "      <td>63</td>\n",
       "      <td>42</td>\n",
       "      <td>Train/42/00042_00007_00029.png</td>\n",
       "    </tr>\n",
       "  </tbody>\n",
       "</table>\n",
       "<p>39209 rows × 8 columns</p>\n",
       "</div>"
      ],
      "text/plain": [
       "       Width  Height  Roi.X1  Roi.Y1  Roi.X2  Roi.Y2  ClassId  \\\n",
       "0         27      26       5       5      22      20       20   \n",
       "1         28      27       5       6      23      22       20   \n",
       "2         29      26       6       5      24      21       20   \n",
       "3         28      27       5       6      23      22       20   \n",
       "4         28      26       5       5      23      21       20   \n",
       "...      ...     ...     ...     ...     ...     ...      ...   \n",
       "39204     52      56       5       6      47      51       42   \n",
       "39205     56      58       5       5      51      53       42   \n",
       "39206     58      62       5       6      53      57       42   \n",
       "39207     63      69       5       7      58      63       42   \n",
       "39208     68      69       7       6      62      63       42   \n",
       "\n",
       "                                 Path  \n",
       "0      Train/20/00020_00000_00000.png  \n",
       "1      Train/20/00020_00000_00001.png  \n",
       "2      Train/20/00020_00000_00002.png  \n",
       "3      Train/20/00020_00000_00003.png  \n",
       "4      Train/20/00020_00000_00004.png  \n",
       "...                               ...  \n",
       "39204  Train/42/00042_00007_00025.png  \n",
       "39205  Train/42/00042_00007_00026.png  \n",
       "39206  Train/42/00042_00007_00027.png  \n",
       "39207  Train/42/00042_00007_00028.png  \n",
       "39208  Train/42/00042_00007_00029.png  \n",
       "\n",
       "[39209 rows x 8 columns]"
      ]
     },
     "execution_count": 3,
     "metadata": {},
     "output_type": "execute_result"
    }
   ],
   "source": [
    "img_path"
   ]
  },
  {
   "cell_type": "markdown",
   "metadata": {},
   "source": [
    "Luckily, the provided data already came with separated Training and Test data, so all that needs to be done for it is create separate dataframes for them. "
   ]
  },
  {
   "cell_type": "markdown",
   "metadata": {},
   "source": [
    "## 2.b Pre Processing"
   ]
  },
  {
   "cell_type": "markdown",
   "metadata": {},
   "source": [
    "Pre processing images takes some elbow grease to get done, but it is not as simple as just uploading an image. To the layman, handling data and processing models seem like magic, just upload an image to an algorithm and done. Unfortunately, it is not that simple. The image has to be converted in a form that is numerical so that it can be understood by the machine. For this, the images in each class will be converted into vectors. <br>\n",
    "\n",
    "In order to conver the images to vectors, all the images will need to be resized. The images come in all various different sizes, so they all need to be kept at the same size so that the vectors have all the same dimensionality. For this, the images in each class will be rezied to a 28x28 image, so that dimensionality of each image when converted to a vector can be 784. "
   ]
  },
  {
   "cell_type": "code",
   "execution_count": 4,
   "metadata": {},
   "outputs": [],
   "source": [
    "img_path_list = []\n",
    "for i in range(len(img_path)):\n",
    "    img_path_list.append(('Dataset2/'+str(img_path['Path'][i])))"
   ]
  },
  {
   "cell_type": "markdown",
   "metadata": {},
   "source": [
    "First, there has to be a way to reach the images considering they are in different directories, this allows us to set up list that contains the path name of the images in every class. "
   ]
  },
  {
   "cell_type": "code",
   "execution_count": 5,
   "metadata": {},
   "outputs": [],
   "source": [
    "## Transforming Images to Vectors ##\n",
    "img_train = [] # list of the image vector values\n",
    "for filename in img_path_list :\n",
    "    im = Image.open(filename).convert('L').resize((20,20)) # conver image to grayscale resize image to be 20x20 pixels\n",
    "    img_vec = np.ravel(im) # convert the image into a 1-D array\n",
    "    img_train.append(img_vec) # put the array in a list"
   ]
  },
  {
   "cell_type": "markdown",
   "metadata": {},
   "source": [
    "By using np.ravel<sup>[3]</sup> the image can be turned into a 1-D array"
   ]
  },
  {
   "cell_type": "code",
   "execution_count": 6,
   "metadata": {},
   "outputs": [
    {
     "data": {
      "text/html": [
       "<div>\n",
       "<style scoped>\n",
       "    .dataframe tbody tr th:only-of-type {\n",
       "        vertical-align: middle;\n",
       "    }\n",
       "\n",
       "    .dataframe tbody tr th {\n",
       "        vertical-align: top;\n",
       "    }\n",
       "\n",
       "    .dataframe thead th {\n",
       "        text-align: right;\n",
       "    }\n",
       "</style>\n",
       "<table border=\"1\" class=\"dataframe\">\n",
       "  <thead>\n",
       "    <tr style=\"text-align: right;\">\n",
       "      <th></th>\n",
       "      <th>0</th>\n",
       "      <th>1</th>\n",
       "      <th>2</th>\n",
       "      <th>3</th>\n",
       "      <th>4</th>\n",
       "      <th>5</th>\n",
       "      <th>6</th>\n",
       "      <th>7</th>\n",
       "      <th>8</th>\n",
       "      <th>9</th>\n",
       "      <th>...</th>\n",
       "      <th>391</th>\n",
       "      <th>392</th>\n",
       "      <th>393</th>\n",
       "      <th>394</th>\n",
       "      <th>395</th>\n",
       "      <th>396</th>\n",
       "      <th>397</th>\n",
       "      <th>398</th>\n",
       "      <th>399</th>\n",
       "      <th>Class</th>\n",
       "    </tr>\n",
       "  </thead>\n",
       "  <tbody>\n",
       "    <tr>\n",
       "      <td>0</td>\n",
       "      <td>14</td>\n",
       "      <td>15</td>\n",
       "      <td>14</td>\n",
       "      <td>14</td>\n",
       "      <td>16</td>\n",
       "      <td>14</td>\n",
       "      <td>12</td>\n",
       "      <td>14</td>\n",
       "      <td>14</td>\n",
       "      <td>11</td>\n",
       "      <td>...</td>\n",
       "      <td>16</td>\n",
       "      <td>17</td>\n",
       "      <td>19</td>\n",
       "      <td>22</td>\n",
       "      <td>18</td>\n",
       "      <td>11</td>\n",
       "      <td>11</td>\n",
       "      <td>12</td>\n",
       "      <td>10</td>\n",
       "      <td>8</td>\n",
       "    </tr>\n",
       "    <tr>\n",
       "      <td>1</td>\n",
       "      <td>44</td>\n",
       "      <td>46</td>\n",
       "      <td>54</td>\n",
       "      <td>77</td>\n",
       "      <td>79</td>\n",
       "      <td>60</td>\n",
       "      <td>154</td>\n",
       "      <td>172</td>\n",
       "      <td>86</td>\n",
       "      <td>112</td>\n",
       "      <td>...</td>\n",
       "      <td>63</td>\n",
       "      <td>56</td>\n",
       "      <td>63</td>\n",
       "      <td>69</td>\n",
       "      <td>80</td>\n",
       "      <td>76</td>\n",
       "      <td>60</td>\n",
       "      <td>58</td>\n",
       "      <td>58</td>\n",
       "      <td>1</td>\n",
       "    </tr>\n",
       "    <tr>\n",
       "      <td>2</td>\n",
       "      <td>33</td>\n",
       "      <td>40</td>\n",
       "      <td>36</td>\n",
       "      <td>31</td>\n",
       "      <td>29</td>\n",
       "      <td>30</td>\n",
       "      <td>31</td>\n",
       "      <td>30</td>\n",
       "      <td>32</td>\n",
       "      <td>33</td>\n",
       "      <td>...</td>\n",
       "      <td>122</td>\n",
       "      <td>145</td>\n",
       "      <td>154</td>\n",
       "      <td>145</td>\n",
       "      <td>173</td>\n",
       "      <td>122</td>\n",
       "      <td>54</td>\n",
       "      <td>30</td>\n",
       "      <td>35</td>\n",
       "      <td>10</td>\n",
       "    </tr>\n",
       "    <tr>\n",
       "      <td>3</td>\n",
       "      <td>59</td>\n",
       "      <td>53</td>\n",
       "      <td>59</td>\n",
       "      <td>65</td>\n",
       "      <td>45</td>\n",
       "      <td>35</td>\n",
       "      <td>46</td>\n",
       "      <td>67</td>\n",
       "      <td>70</td>\n",
       "      <td>78</td>\n",
       "      <td>...</td>\n",
       "      <td>56</td>\n",
       "      <td>37</td>\n",
       "      <td>28</td>\n",
       "      <td>27</td>\n",
       "      <td>22</td>\n",
       "      <td>21</td>\n",
       "      <td>21</td>\n",
       "      <td>21</td>\n",
       "      <td>21</td>\n",
       "      <td>11</td>\n",
       "    </tr>\n",
       "    <tr>\n",
       "      <td>4</td>\n",
       "      <td>21</td>\n",
       "      <td>21</td>\n",
       "      <td>20</td>\n",
       "      <td>18</td>\n",
       "      <td>18</td>\n",
       "      <td>18</td>\n",
       "      <td>21</td>\n",
       "      <td>22</td>\n",
       "      <td>23</td>\n",
       "      <td>26</td>\n",
       "      <td>...</td>\n",
       "      <td>25</td>\n",
       "      <td>20</td>\n",
       "      <td>18</td>\n",
       "      <td>18</td>\n",
       "      <td>18</td>\n",
       "      <td>18</td>\n",
       "      <td>18</td>\n",
       "      <td>17</td>\n",
       "      <td>17</td>\n",
       "      <td>7</td>\n",
       "    </tr>\n",
       "    <tr>\n",
       "      <td>...</td>\n",
       "      <td>...</td>\n",
       "      <td>...</td>\n",
       "      <td>...</td>\n",
       "      <td>...</td>\n",
       "      <td>...</td>\n",
       "      <td>...</td>\n",
       "      <td>...</td>\n",
       "      <td>...</td>\n",
       "      <td>...</td>\n",
       "      <td>...</td>\n",
       "      <td>...</td>\n",
       "      <td>...</td>\n",
       "      <td>...</td>\n",
       "      <td>...</td>\n",
       "      <td>...</td>\n",
       "      <td>...</td>\n",
       "      <td>...</td>\n",
       "      <td>...</td>\n",
       "      <td>...</td>\n",
       "      <td>...</td>\n",
       "      <td>...</td>\n",
       "    </tr>\n",
       "    <tr>\n",
       "      <td>39204</td>\n",
       "      <td>160</td>\n",
       "      <td>160</td>\n",
       "      <td>160</td>\n",
       "      <td>161</td>\n",
       "      <td>160</td>\n",
       "      <td>162</td>\n",
       "      <td>161</td>\n",
       "      <td>162</td>\n",
       "      <td>161</td>\n",
       "      <td>162</td>\n",
       "      <td>...</td>\n",
       "      <td>22</td>\n",
       "      <td>35</td>\n",
       "      <td>39</td>\n",
       "      <td>31</td>\n",
       "      <td>30</td>\n",
       "      <td>28</td>\n",
       "      <td>28</td>\n",
       "      <td>27</td>\n",
       "      <td>27</td>\n",
       "      <td>11</td>\n",
       "    </tr>\n",
       "    <tr>\n",
       "      <td>39205</td>\n",
       "      <td>211</td>\n",
       "      <td>168</td>\n",
       "      <td>151</td>\n",
       "      <td>198</td>\n",
       "      <td>196</td>\n",
       "      <td>254</td>\n",
       "      <td>237</td>\n",
       "      <td>163</td>\n",
       "      <td>196</td>\n",
       "      <td>235</td>\n",
       "      <td>...</td>\n",
       "      <td>247</td>\n",
       "      <td>255</td>\n",
       "      <td>255</td>\n",
       "      <td>255</td>\n",
       "      <td>255</td>\n",
       "      <td>232</td>\n",
       "      <td>156</td>\n",
       "      <td>134</td>\n",
       "      <td>196</td>\n",
       "      <td>25</td>\n",
       "    </tr>\n",
       "    <tr>\n",
       "      <td>39206</td>\n",
       "      <td>255</td>\n",
       "      <td>255</td>\n",
       "      <td>253</td>\n",
       "      <td>255</td>\n",
       "      <td>255</td>\n",
       "      <td>222</td>\n",
       "      <td>248</td>\n",
       "      <td>248</td>\n",
       "      <td>133</td>\n",
       "      <td>131</td>\n",
       "      <td>...</td>\n",
       "      <td>82</td>\n",
       "      <td>94</td>\n",
       "      <td>125</td>\n",
       "      <td>132</td>\n",
       "      <td>76</td>\n",
       "      <td>45</td>\n",
       "      <td>63</td>\n",
       "      <td>52</td>\n",
       "      <td>58</td>\n",
       "      <td>11</td>\n",
       "    </tr>\n",
       "    <tr>\n",
       "      <td>39207</td>\n",
       "      <td>41</td>\n",
       "      <td>44</td>\n",
       "      <td>48</td>\n",
       "      <td>43</td>\n",
       "      <td>39</td>\n",
       "      <td>45</td>\n",
       "      <td>58</td>\n",
       "      <td>58</td>\n",
       "      <td>38</td>\n",
       "      <td>28</td>\n",
       "      <td>...</td>\n",
       "      <td>63</td>\n",
       "      <td>54</td>\n",
       "      <td>62</td>\n",
       "      <td>49</td>\n",
       "      <td>43</td>\n",
       "      <td>40</td>\n",
       "      <td>38</td>\n",
       "      <td>45</td>\n",
       "      <td>48</td>\n",
       "      <td>22</td>\n",
       "    </tr>\n",
       "    <tr>\n",
       "      <td>39208</td>\n",
       "      <td>58</td>\n",
       "      <td>154</td>\n",
       "      <td>191</td>\n",
       "      <td>187</td>\n",
       "      <td>190</td>\n",
       "      <td>177</td>\n",
       "      <td>111</td>\n",
       "      <td>53</td>\n",
       "      <td>45</td>\n",
       "      <td>59</td>\n",
       "      <td>...</td>\n",
       "      <td>99</td>\n",
       "      <td>119</td>\n",
       "      <td>139</td>\n",
       "      <td>153</td>\n",
       "      <td>155</td>\n",
       "      <td>154</td>\n",
       "      <td>130</td>\n",
       "      <td>74</td>\n",
       "      <td>51</td>\n",
       "      <td>25</td>\n",
       "    </tr>\n",
       "  </tbody>\n",
       "</table>\n",
       "<p>39209 rows × 401 columns</p>\n",
       "</div>"
      ],
      "text/plain": [
       "         0    1    2    3    4    5    6    7    8    9  ...  391  392  393  \\\n",
       "0       14   15   14   14   16   14   12   14   14   11  ...   16   17   19   \n",
       "1       44   46   54   77   79   60  154  172   86  112  ...   63   56   63   \n",
       "2       33   40   36   31   29   30   31   30   32   33  ...  122  145  154   \n",
       "3       59   53   59   65   45   35   46   67   70   78  ...   56   37   28   \n",
       "4       21   21   20   18   18   18   21   22   23   26  ...   25   20   18   \n",
       "...    ...  ...  ...  ...  ...  ...  ...  ...  ...  ...  ...  ...  ...  ...   \n",
       "39204  160  160  160  161  160  162  161  162  161  162  ...   22   35   39   \n",
       "39205  211  168  151  198  196  254  237  163  196  235  ...  247  255  255   \n",
       "39206  255  255  253  255  255  222  248  248  133  131  ...   82   94  125   \n",
       "39207   41   44   48   43   39   45   58   58   38   28  ...   63   54   62   \n",
       "39208   58  154  191  187  190  177  111   53   45   59  ...   99  119  139   \n",
       "\n",
       "       394  395  396  397  398  399  Class  \n",
       "0       22   18   11   11   12   10      8  \n",
       "1       69   80   76   60   58   58      1  \n",
       "2      145  173  122   54   30   35     10  \n",
       "3       27   22   21   21   21   21     11  \n",
       "4       18   18   18   18   17   17      7  \n",
       "...    ...  ...  ...  ...  ...  ...    ...  \n",
       "39204   31   30   28   28   27   27     11  \n",
       "39205  255  255  232  156  134  196     25  \n",
       "39206  132   76   45   63   52   58     11  \n",
       "39207   49   43   40   38   45   48     22  \n",
       "39208  153  155  154  130   74   51     25  \n",
       "\n",
       "[39209 rows x 401 columns]"
      ]
     },
     "execution_count": 6,
     "metadata": {},
     "output_type": "execute_result"
    }
   ],
   "source": [
    "img_dataset = pd.DataFrame(img_train) # convert list to pandas dataframe\n",
    "img_dataset['Class'] = img_path['ClassId'] # adds class to the dataset for shuffling\n",
    "img_dataset = img_dataset.sample(frac=1).reset_index(drop=True) # shuffle the dataset\n",
    "img_dataset"
   ]
  },
  {
   "cell_type": "code",
   "execution_count": 7,
   "metadata": {},
   "outputs": [],
   "source": [
    "X = img_dataset.iloc[:,0:400]\n",
    "Y = img_dataset['Class']"
   ]
  },
  {
   "cell_type": "code",
   "execution_count": 8,
   "metadata": {},
   "outputs": [
    {
     "name": "stdout",
     "output_type": "stream",
     "text": [
      "[[ 14  15  14 ...  11  12  10]\n",
      " [ 44  46  54 ...  60  58  58]\n",
      " [ 33  40  36 ...  54  30  35]\n",
      " ...\n",
      " [255 255 253 ...  63  52  58]\n",
      " [ 41  44  48 ...  38  45  48]\n",
      " [ 58 154 191 ... 130  74  51]]\n",
      "\n",
      " (39209, 400)\n"
     ]
    }
   ],
   "source": [
    "X = X.to_numpy() # turn dataframe into a numpy array -> easier to work with\n",
    "print(X)\n",
    "print(\"\\n\",X.shape)"
   ]
  },
  {
   "cell_type": "markdown",
   "metadata": {},
   "source": [
    "With this, the data has now transformed each image into a vector. Each sample in the dataset is an image vector. "
   ]
  },
  {
   "cell_type": "markdown",
   "metadata": {},
   "source": [
    "## 2.c Feature Extraction"
   ]
  },
  {
   "cell_type": "markdown",
   "metadata": {},
   "source": [
    "For feature extraction, PCA should be done in order to reduce the dimensionality of our dataset. Currently, there are 400 raw features. In order to make analizing the data faster, and easier. Since there are separate test and training datasets, PCA will be conducted on both."
   ]
  },
  {
   "cell_type": "code",
   "execution_count": 9,
   "metadata": {},
   "outputs": [
    {
     "data": {
      "text/plain": [
       "Text(0.5, 0.91, '90% capture')"
      ]
     },
     "execution_count": 9,
     "metadata": {},
     "output_type": "execute_result"
    },
    {
     "data": {
      "image/png": "[encoded data removed]",
      "text/plain": [
       "<Figure size 432x288 with 1 Axes>"
      ]
     },
     "metadata": {
      "needs_background": "light"
     },
     "output_type": "display_data"
    }
   ],
   "source": [
    "pca = PCA().fit(X.data)\n",
    "plt.plot(np.cumsum(pca.explained_variance_ratio_))\n",
    "plt.xlabel('number of components')\n",
    "plt.ylabel('cumulative explained variance')\n",
    "\n",
    "plt.axhline(y=0.97, color='r', linestyle='-')\n",
    "plt.axhline(y=0.70, color='r', linestyle='-')\n",
    "plt.axhline(y=0.9, color='g', linestyle='-') # capture 90% of the energy \n",
    "plt.text(0.5, 0.8, '70-97% cut-off threshold', color = 'red', fontsize=16)\n",
    "plt.text(0.5, 0.91, '90% capture', color = 'green', fontsize=12)"
   ]
  },
  {
   "cell_type": "markdown",
   "metadata": {},
   "source": [
    "From these graphs, it is visible just how much the dimensionality of the data can be reduced greatly while still retaining a majority of the information in our dataset. If the data wants to capture 90% of the information, it will reduce from 400 features to somewhere around 25 features for both the training and testing dataset. While capturing 90% of the information is good, capturing 97% of the information is even better. While it might make our methods not as fast, it is a good trade off for better results. "
   ]
  },
  {
   "cell_type": "code",
   "execution_count": 10,
   "metadata": {},
   "outputs": [
    {
     "name": "stdout",
     "output_type": "stream",
     "text": [
      "PCA on Training Dataset:  (39209, 83)\n"
     ]
    }
   ],
   "source": [
    "## PCA on Training Data ##\n",
    "X_pca = skldecomp.PCA(n_components=0.97, svd_solver='full')\n",
    "pca_X = X_pca.fit_transform(X)\n",
    "print(\"PCA on Training Dataset: \",pca_X.shape)"
   ]
  },
  {
   "cell_type": "markdown",
   "metadata": {},
   "source": [
    "## 2.d Processing the Datasets"
   ]
  },
  {
   "cell_type": "markdown",
   "metadata": {},
   "source": [
    "As mentioned previously, the machine learning methods that will be employed for this dataset will be:\n",
    "- Support Vector Machines (SVM)\n",
    "    - SVM was chosen bevause of the the way it finds optimal boundaries between the outputs. More indepth, SVC will be used in order to allow for some support vector margin violation\n",
    "- K-Nearest Neighbor (KNN)\n",
    "    - Assumption that if the samples contain the same image, there should be some similarity and thus be close to each other.\n",
    "- Logistic Regression (LR)\n",
    "    - Another linear classifier that separates multiple classes. Similar to Maximum A Posteriori (MAP) classifiers as it relies on prior probabilities to classify. "
   ]
  },
  {
   "cell_type": "markdown",
   "metadata": {},
   "source": [
    "### 2.d.i Support Vector Machines (SVM)"
   ]
  },
  {
   "cell_type": "markdown",
   "metadata": {},
   "source": [
    "The first method that will be utilized is the Support Vector Machine classifier. SVMs are linear classifierss that correspond to a hyperplane define by: <br>\n",
    "<center>$f(x) = $<b>w</b> <sup>T</sup> <b>x</b>$ + b = 0$ </center>\n",
    "\n",
    "In the case of Binary Classification, with the labels as {1,-1}:\n",
    "<center>\n",
    "    $f(x) > 0 $ ->$ y = 1 $<br>\n",
    "    $f(x) < 0 $->$ y = -1 $\n",
    "</center>\n",
    "\n",
    "For multiclass classification, this can work in a similar fashion. If one uses SVM with One vs Rest classification, it extends Binary Classification to Multiclass. <br>\n",
    "\n",
    "SVM is normally a hard-margin classifier, meaning that it does not allow for any margin violations. This is not wanted as there could be some potential margin violations caused by the samples, so the SVM will instead use a Soft Margin Classifier known as SVC, which is the same as SVM but allows for support vector magin violations. Since there could potentially be cases of margin violation due to the dataset, it is best to account for that and tune the hyperparameters. <br>\n",
    "\n",
    "By using a method from sklearn called pipeline<sup>[6][7][8]</sup>, the process for SVC can be made faster"
   ]
  },
  {
   "cell_type": "code",
   "execution_count": 11,
   "metadata": {},
   "outputs": [
    {
     "name": "stdout",
     "output_type": "stream",
     "text": [
      "Run time: 104.10768032073975\n",
      "Classification Report\n",
      "               precision    recall  f1-score   support\n",
      "\n",
      "           0       1.00      0.62      0.77        45\n",
      "           1       0.88      0.93      0.90       452\n",
      "           2       0.93      0.90      0.92       470\n",
      "           3       0.83      0.86      0.85       254\n",
      "           4       0.85      0.93      0.89       401\n",
      "           5       0.78      0.89      0.83       367\n",
      "           6       0.93      0.99      0.96        82\n",
      "           7       0.91      0.84      0.87       298\n",
      "           8       0.77      0.90      0.83       289\n",
      "           9       0.99      0.92      0.95       303\n",
      "          10       0.95      0.97      0.96       412\n",
      "          11       0.88      0.96      0.92       260\n",
      "          12       0.76      0.97      0.85       419\n",
      "          13       0.95      0.98      0.97       402\n",
      "          14       0.99      0.95      0.97       147\n",
      "          15       0.97      0.89      0.92       131\n",
      "          16       1.00      0.95      0.97        81\n",
      "          17       1.00      0.97      0.98       207\n",
      "          18       0.90      0.93      0.91       237\n",
      "          19       1.00      0.69      0.82        42\n",
      "          20       0.96      0.81      0.88        67\n",
      "          21       0.97      0.88      0.92        64\n",
      "          22       0.99      0.91      0.95        81\n",
      "          23       0.99      0.84      0.91        95\n",
      "          24       1.00      0.68      0.81        59\n",
      "          25       0.94      0.93      0.94       304\n",
      "          26       0.97      0.74      0.84       124\n",
      "          27       1.00      0.71      0.83        52\n",
      "          28       0.99      0.89      0.94       111\n",
      "          29       1.00      0.80      0.89        51\n",
      "          30       0.94      0.89      0.92        85\n",
      "          31       0.94      0.89      0.92       170\n",
      "          32       1.00      0.88      0.94        58\n",
      "          33       0.99      0.93      0.96       130\n",
      "          34       0.99      0.90      0.94        87\n",
      "          35       1.00      0.91      0.95       246\n",
      "          36       0.99      0.89      0.94        81\n",
      "          37       1.00      0.90      0.95        42\n",
      "          38       0.96      0.98      0.97       420\n",
      "          39       1.00      0.91      0.95        55\n",
      "          40       1.00      0.69      0.81        83\n",
      "          41       1.00      0.78      0.87        40\n",
      "          42       1.00      0.82      0.90        38\n",
      "\n",
      "    accuracy                           0.91      7842\n",
      "   macro avg       0.95      0.87      0.91      7842\n",
      "weighted avg       0.92      0.91      0.91      7842\n",
      "\n",
      "SVC Accuracy: 0.9107370568732466\n"
     ]
    }
   ],
   "source": [
    "svc_X_train, svc_X_test,svc_Y_train, svc_Y_test = train_test_split(pca_X, Y, test_size=0.2)\n",
    "\n",
    "# pipelines allow to stick multiple processes into a single scikit estimator. It uses the same features as normal estimators\n",
    "# such as fit, and predict\n",
    "\n",
    "t0_svc = time.time()\n",
    "# named after the 1995 Prince Album The Gold Experience\n",
    "golden_experience = Pipeline([('scaler', StandardScaler()), ('svc', SVC())])\n",
    "# SVC by default uses One Vs Rest Classification, Radial basis function kernel. All values were kept at default\n",
    "\n",
    "\n",
    "golden_experience.fit(svc_X_train, svc_Y_train)\n",
    "svc_pred = golden_experience.predict(svc_X_test)\n",
    "svc_time = time.time() - t0_svc\n",
    "\n",
    "print(\"Run time:\",svc_time)\n",
    "svc_cm = confusion_matrix(svc_Y_test, svc_pred)\n",
    "svc_cr = classification_report(svc_Y_test, svc_pred)\n",
    "print(\"Classification Report\\n\",svc_cr)\n",
    "accuracy_svc = accuracy_score(svc_Y_test, svc_pred)\n",
    "print('SVC Accuracy:',accuracy_svc)"
   ]
  },
  {
   "cell_type": "markdown",
   "metadata": {},
   "source": [
    "### 2.d.ii K-Nearest Neighbor (KNN)"
   ]
  },
  {
   "cell_type": "markdown",
   "metadata": {},
   "source": [
    "KNN is a MAP Classifier that is the best under 0-1 loss. It utilizes a distance metric in order to measure distance between datapoints in *p* dimensions. Additionally, it uses a mechanism to define a neighborhood around a point. Mathematically, the KNN estimate is:\n",
    "<center> $l_hat = argmax \\frac{1}{k}\\sum 1_{y_i = l} $</center>\n",
    "in which <b>1</b> is the 0-1 loss. <br>\n",
    "\n",
    "Essentially, for any given **x**, it belongs to the class which has a majority in its neighborhood. <br>\n",
    "\n",
    "K-Fold cross validation with K = 7 was used for both checking performance and splitting the data into training and test data"
   ]
  },
  {
   "cell_type": "code",
   "execution_count": 12,
   "metadata": {},
   "outputs": [
    {
     "name": "stdout",
     "output_type": "stream",
     "text": [
      "Average Accurary: 0.8171592867513121\n",
      "Classification Report\n",
      "               precision    recall  f1-score   support\n",
      "\n",
      "           0       0.82      0.84      0.83        32\n",
      "           1       0.75      0.86      0.81       311\n",
      "           2       0.73      0.80      0.76       315\n",
      "           3       0.67      0.69      0.68       194\n",
      "           4       0.79      0.82      0.80       271\n",
      "           5       0.67      0.81      0.73       300\n",
      "           6       0.89      0.92      0.91        53\n",
      "           7       0.65      0.80      0.71       201\n",
      "           8       0.75      0.81      0.78       203\n",
      "           9       0.93      0.81      0.87       202\n",
      "          10       0.84      0.85      0.84       258\n",
      "          11       0.84      0.84      0.84       185\n",
      "          12       0.90      0.77      0.83       305\n",
      "          13       0.90      0.92      0.91       300\n",
      "          14       0.95      0.74      0.84       113\n",
      "          15       0.81      0.64      0.72        84\n",
      "          16       0.84      0.93      0.88        57\n",
      "          17       0.94      0.86      0.90       154\n",
      "          18       0.78      0.86      0.82       177\n",
      "          19       0.89      0.80      0.84        30\n",
      "          20       0.78      0.78      0.78        58\n",
      "          21       0.88      0.88      0.88        57\n",
      "          22       0.93      0.84      0.89        64\n",
      "          23       0.91      0.85      0.88        68\n",
      "          24       0.85      0.58      0.69        38\n",
      "          25       0.83      0.75      0.79       226\n",
      "          26       0.79      0.74      0.76        92\n",
      "          27       0.86      0.72      0.78        43\n",
      "          28       0.88      0.82      0.85        92\n",
      "          29       0.85      0.61      0.71        46\n",
      "          30       0.69      0.91      0.78        54\n",
      "          31       0.82      0.88      0.85       113\n",
      "          32       0.87      0.74      0.80        35\n",
      "          33       0.96      0.79      0.87       100\n",
      "          34       0.97      0.81      0.88        69\n",
      "          35       0.93      0.80      0.86       177\n",
      "          36       0.92      0.75      0.83        60\n",
      "          37       0.96      0.79      0.87        34\n",
      "          38       0.87      0.87      0.87       293\n",
      "          39       1.00      0.95      0.97        37\n",
      "          40       0.75      0.76      0.75        54\n",
      "          41       0.90      0.90      0.90        20\n",
      "          42       1.00      0.88      0.94        26\n",
      "\n",
      "    accuracy                           0.82      5601\n",
      "   macro avg       0.85      0.81      0.83      5601\n",
      "weighted avg       0.82      0.82      0.82      5601\n",
      "\n",
      "Average run time after doing 5-fold Cross Validation: 8.491797004427228\n"
     ]
    }
   ],
   "source": [
    "knn_run_time = [] # list of time for each iteration\n",
    "knn_conf_matrix = [] # list of the confusion matrices for each iteration\n",
    "knn_accuracy = [] # list of the accuracy for each iteration\n",
    "\n",
    "knn_kfold = KFold(n_splits=7,shuffle=True) # initialize the kfold cross validation\n",
    "for knn_train_index, knn_test_index in knn_kfold.split(pca_X,Y):\n",
    "    knn_X_train, knn_X_test = pca_X[knn_train_index], pca_X[knn_test_index] # Training Data, Test Data\n",
    "    knn_y_train, knn_y_test = Y[knn_train_index], Y[knn_test_index] # Training Data, Test Data\n",
    "    t0_knn = time.time()\n",
    "    red_hot_chili_peppers = KNeighborsClassifier(n_neighbors=10,metric='euclidean') # named after the 1983 band RHCP\n",
    "    red_hot_chili_peppers.fit(knn_X_train,knn_y_train) # fit to the KNN Classifier\n",
    "    knn_pred = red_hot_chili_peppers.predict(knn_X_test) # predict class\n",
    "    knn_time = time.time()-t0_knn\n",
    "    knn_run_time.append(knn_time)\n",
    "    knn_cm = confusion_matrix(knn_y_test, knn_pred) # confusion matrix\n",
    "    knn_conf_matrix.append(knn_cm)\n",
    "    knn_cr = classification_report(knn_y_test, knn_pred) # classification report - shows main classification metrics\n",
    "    accuracy_knn = accuracy_score(knn_y_test, knn_pred) # accuracy\n",
    "    knn_accuracy.append(accuracy_knn)\n",
    "\n",
    "average_knn_accuracy = sum(knn_accuracy)/7\n",
    "print(\"Average Accurary:\",average_knn_accuracy)\n",
    "print(\"Classification Report\\n\",knn_cr)\n",
    "average_knn_time = sum(knn_run_time)/7\n",
    "print(\"Average run time after doing 5-fold Cross Validation:\", average_knn_time)"
   ]
  },
  {
   "cell_type": "markdown",
   "metadata": {},
   "source": [
    "### 2.d.iii Logistic Regression (LR)"
   ]
  },
  {
   "cell_type": "markdown",
   "metadata": {},
   "source": [
    "Logistic Regression is a classifier that estimates the posterior probabilities from the data. The goal is to estimate a normal vector and bias in order to minimize the logistic loss. \n",
    "\n",
    "Making use of pipelines<sup>[6]</sup> again in order to complete mu"
   ]
  },
  {
   "cell_type": "code",
   "execution_count": 13,
   "metadata": {},
   "outputs": [
    {
     "name": "stdout",
     "output_type": "stream",
     "text": [
      "Run time: 25.217877864837646\n",
      "Classification Report\n",
      "               precision    recall  f1-score   support\n",
      "\n",
      "           0       0.00      0.00      0.00        42\n",
      "           1       0.51      0.71      0.59       430\n",
      "           2       0.54      0.55      0.55       457\n",
      "           3       0.44      0.20      0.27       276\n",
      "           4       0.62      0.60      0.61       390\n",
      "           5       0.50      0.15      0.23       356\n",
      "           6       1.00      0.02      0.04        94\n",
      "           7       0.75      0.36      0.49       324\n",
      "           8       0.65      0.35      0.45       277\n",
      "           9       0.66      0.85      0.74       309\n",
      "          10       0.38      0.94      0.54       405\n",
      "          11       0.62      0.86      0.72       265\n",
      "          12       0.60      0.79      0.68       414\n",
      "          13       0.58      0.97      0.73       449\n",
      "          14       0.77      0.89      0.83       154\n",
      "          15       1.00      0.12      0.22       136\n",
      "          16       1.00      0.26      0.42       110\n",
      "          17       0.80      0.98      0.88       244\n",
      "          18       0.54      0.77      0.64       235\n",
      "          19       1.00      0.13      0.23        46\n",
      "          20       0.00      0.00      0.00        81\n",
      "          21       0.00      0.00      0.00        59\n",
      "          22       1.00      0.15      0.27        85\n",
      "          23       0.94      0.18      0.30        96\n",
      "          24       0.00      0.00      0.00        47\n",
      "          25       0.58      0.82      0.68       302\n",
      "          26       0.00      0.00      0.00       117\n",
      "          27       0.00      0.00      0.00        50\n",
      "          28       0.82      0.44      0.57       114\n",
      "          29       0.00      0.00      0.00        41\n",
      "          30       1.00      0.18      0.30        91\n",
      "          31       0.54      0.23      0.32       145\n",
      "          32       0.00      0.00      0.00        36\n",
      "          33       0.85      0.76      0.80       128\n",
      "          34       0.78      0.25      0.38        72\n",
      "          35       0.60      0.92      0.73       219\n",
      "          36       0.98      0.78      0.87        69\n",
      "          37       1.00      0.32      0.48        47\n",
      "          38       0.48      0.96      0.64       398\n",
      "          39       1.00      0.42      0.59        64\n",
      "          40       1.00      0.06      0.11        70\n",
      "          41       1.00      0.02      0.04        46\n",
      "          42       0.00      0.00      0.00        52\n",
      "\n",
      "    accuracy                           0.58      7842\n",
      "   macro avg       0.59      0.39      0.39      7842\n",
      "weighted avg       0.60      0.58      0.52      7842\n",
      "\n",
      "LR Accuracy: 0.5776587605202754\n"
     ]
    },
    {
     "name": "stderr",
     "output_type": "stream",
     "text": [
      "c:\\users\\robert\\appdata\\local\\programs\\python\\python37-32\\lib\\site-packages\\sklearn\\metrics\\_classification.py:1221: UndefinedMetricWarning: Precision and F-score are ill-defined and being set to 0.0 in labels with no predicted samples. Use `zero_division` parameter to control this behavior.\n",
      "  _warn_prf(average, modifier, msg_start, len(result))\n"
     ]
    }
   ],
   "source": [
    "LR_X_train, LR_X_test,LR_Y_train, LR_Y_test = train_test_split(pca_X, Y, test_size=0.2)\n",
    "\n",
    "# named after Queen Song - Made in Heaven\n",
    "LR_t0 = time.time()\n",
    "made_in_heaven = Pipeline([('clf', OneVsRestClassifier(LogisticRegression(solver='sag'), n_jobs=-1))])\n",
    "# solver='sag' works for multiclass problems, uses l2 penalty \n",
    "# using One Vs Rest classifer as it is more efficient than One vs One Classification -> ( O(L^2) )\n",
    "\n",
    "made_in_heaven.fit(LR_X_train, LR_Y_train)\n",
    "LR_pred = made_in_heaven.predict(LR_X_test)\n",
    "LR_time = time.time() - LR_t0\n",
    "\n",
    "print(\"Run time:\",LR_time)\n",
    "LR_cm = confusion_matrix(LR_Y_test, LR_pred)\n",
    "LR_cr = classification_report(LR_Y_test, LR_pred)\n",
    "print(\"Classification Report\\n\",LR_cr)\n",
    "accuracy_LR = accuracy_score(LR_Y_test, LR_pred)\n",
    "print('LR Accuracy:',accuracy_LR)"
   ]
  },
  {
   "cell_type": "markdown",
   "metadata": {},
   "source": [
    "## 2.e Comparative Analysis"
   ]
  },
  {
   "cell_type": "code",
   "execution_count": 14,
   "metadata": {},
   "outputs": [
    {
     "name": "stdout",
     "output_type": "stream",
     "text": [
      "SVC run time: 104.10768032073975\n",
      "Average KNN run time: 8.491797004427228\n",
      "Logistic Regression run time: 25.217877864837646\n"
     ]
    }
   ],
   "source": [
    "print(\"SVC run time:\",svc_time)\n",
    "print(\"Average KNN run time:\", average_knn_time)\n",
    "print(\"Logistic Regression run time:\",LR_time)"
   ]
  },
  {
   "cell_type": "markdown",
   "metadata": {},
   "source": [
    "From the run time of the three methods, there is a large difference between the fastest and the slowest ones. For SVC is lasts 104 seconds, almost 2 minutes. This can be due to the training Time Complexity of SVM being $ O(nd^2)$ if d<n where d is the dimension and n are the number of data points<sup>[9]</sup>. "
   ]
  },
  {
   "cell_type": "code",
   "execution_count": 15,
   "metadata": {},
   "outputs": [
    {
     "name": "stdout",
     "output_type": "stream",
     "text": [
      "[[ 28  16   0 ...   0   0   0]\n",
      " [  0 422   8 ...   0   0   0]\n",
      " [  0   3 424 ...   0   0   0]\n",
      " ...\n",
      " [  0   4   0 ...  57   0   0]\n",
      " [  0   0   0 ...   0  31   0]\n",
      " [  0   1   0 ...   0   0  31]]\n"
     ]
    },
    {
     "data": {
      "image/png": "[encoded data removed]",
      "text/plain": [
       "<Figure size 288x288 with 2 Axes>"
      ]
     },
     "metadata": {
      "needs_background": "light"
     },
     "output_type": "display_data"
    }
   ],
   "source": [
    "print(svc_cm)\n",
    "\n",
    "plt.matshow(svc_cm, cmap= 'plasma') # using the plasma cmap color for easier visualization between the shades of color\n",
    "plt.title('Confusion matrix')\n",
    "plt.colorbar()\n",
    "plt.ylabel('True label')\n",
    "plt.xlabel('Predicted label')\n",
    "plt.show()"
   ]
  },
  {
   "cell_type": "code",
   "execution_count": 16,
   "metadata": {},
   "outputs": [
    {
     "name": "stdout",
     "output_type": "stream",
     "text": [
      "[[ 151   17    2 ...    0    0    0]\n",
      " [  10 1887   75 ...    9    1    0]\n",
      " [   8  102 1764 ...   13    0    0]\n",
      " ...\n",
      " [   1    7   12 ...  267    0    0]\n",
      " [   0    3    6 ...    0  188    0]\n",
      " [   0    2    3 ...    1    0  186]]\n"
     ]
    },
    {
     "data": {
      "image/png": "[encoded data removed]",
      "text/plain": [
       "<Figure size 288x288 with 2 Axes>"
      ]
     },
     "metadata": {
      "needs_background": "light"
     },
     "output_type": "display_data"
    }
   ],
   "source": [
    "overall_conf_knn = sum(knn_conf_matrix ) # overall GNB confusion matrix \n",
    "\n",
    "print(overall_conf_knn)\n",
    "\n",
    "plt.matshow(overall_conf_knn, cmap= 'plasma') # using the plasma cmap color for easier visualization between the shades of color\n",
    "plt.title('Confusion matrix')\n",
    "plt.colorbar()\n",
    "plt.ylabel('True label')\n",
    "plt.xlabel('Predicted label')\n",
    "plt.show()"
   ]
  },
  {
   "cell_type": "code",
   "execution_count": 17,
   "metadata": {},
   "outputs": [
    {
     "name": "stdout",
     "output_type": "stream",
     "text": [
      "[[  0  36   0 ...   0   0   0]\n",
      " [  0 304  30 ...   0   0   0]\n",
      " [  0  80 253 ...   0   0   0]\n",
      " ...\n",
      " [  0   2   0 ...   4   0   0]\n",
      " [  0   0   0 ...   0   1   0]\n",
      " [  0   0   0 ...   0   0   0]]\n"
     ]
    },
    {
     "data": {
      "image/png": "[encoded data removed]",
      "text/plain": [
       "<Figure size 288x288 with 2 Axes>"
      ]
     },
     "metadata": {
      "needs_background": "light"
     },
     "output_type": "display_data"
    }
   ],
   "source": [
    "print(LR_cm)\n",
    "\n",
    "plt.matshow(LR_cm, cmap= 'plasma') # using the plasma cmap color for easier visualization between the shades of color\n",
    "plt.title('Confusion matrix')\n",
    "plt.colorbar()\n",
    "plt.ylabel('True label')\n",
    "plt.xlabel('Predicted label')\n",
    "plt.show()"
   ]
  },
  {
   "cell_type": "markdown",
   "metadata": {},
   "source": [
    "From the confusion matrix, one can visually see how the classification is working out for each method. The confusion matric for LR seems to have more misclassification than the other two. "
   ]
  },
  {
   "cell_type": "code",
   "execution_count": 18,
   "metadata": {},
   "outputs": [
    {
     "name": "stdout",
     "output_type": "stream",
     "text": [
      "SVC Accuracy: 0.9107370568732466\n",
      "Average KNN Accurary: 0.8171592867513121\n",
      "LR Accuracy: 0.5776587605202754\n"
     ]
    }
   ],
   "source": [
    "print('SVC Accuracy:',accuracy_svc)\n",
    "print(\"Average KNN Accurary:\",average_knn_accuracy)\n",
    "print('LR Accuracy:',accuracy_LR)"
   ]
  },
  {
   "cell_type": "markdown",
   "metadata": {},
   "source": [
    "Finally, the accuracy of the three classification methods used. From this, it is very clear which classification method classified best, and it was SVC with 91% accuracy, with KNN having 81% and finally LR with only being accurate just about 58% of the time. <br>\n",
    "\n",
    "Making a decision on which method is the most effection, is not an easy one in this case. While SVC seems like the best method due to its accuracy, it has a was longer run time than either of the other two. For this one, while it's accuracy is only 10% less than SVC, its way faster than SVC. KNN is a relatively good choice for this dataset, and should be the one that is chosen. "
   ]
  },
  {
   "cell_type": "markdown",
   "metadata": {},
   "source": [
    "## 2.f Ethical Issues"
   ]
  },
  {
   "cell_type": "markdown",
   "metadata": {},
   "source": [
    "Imaging datasets are very prone to biases, and need to be carefully trained so that it can classify effectively. If it is not carefully trained, then it can lead bad performance and, inadvertly, lead to a form of discrimination. In some imaging dataset, if pictures of light skinned individuals are fed more than dark skinned faces, then the model will be worse at recognizing darker skinned faced <sup>[11]</sup>. If not trained correctly, it can show up abruptly in places one would not think, such as social media. Twitter had an issue of this nature recently, in which it could crop to the lighter skinned individuals no matter the way the images were layed out<sup>[13]</sup>. While it was most likely not purposely done, this is an example of how a model needs to be carefully trained in order to avoid these kinds of issues. Steps need to be taken to ensure that algorithm are fair and without discrimination. <br>\n",
    "\n",
    "While discrimination is a big issue, another major issue is, in the form of something similar to this dataset, is if something of this nature is adapted into self driving vehicles. There are already reports of self driving vehicles that get into fatal accidents<sup>[12]</sup>. With a model similar to this one, an ML engineer has to ensure that it can classify correctly at least 99% of the time, with some failsafe for the 1% of the time it does not accurately detect. In the event that a vehicle potentially equiped with self driving is not able to recognize a street sign, wether its a speed sign, a stop sign, or a pedestrian crossing, it could pose a danger to a lot of people and put many lives at risk. <br>\n",
    "\n",
    "\n"
   ]
  },
  {
   "cell_type": "markdown",
   "metadata": {},
   "source": [
    "## 2.g References used in this Dataset"
   ]
  },
  {
   "cell_type": "markdown",
   "metadata": {},
   "source": [
    "1)<br>\n",
    "Pulkit SharmaMy research interests lies in the field of Machine Learning and Deep Learning. Possess an enthusiasm for learning new skills and technologies. “Build Multi Label Image Classification Model in Python.” Analytics Vidhya, 30 Nov. 2020, https://www.analyticsvidhya.com/blog/2019/04/build-first-multi-label-image-classification-model-python/. \n",
    "\n",
    "2)<br>\n",
    "Aly, Walid. “Which Image Resolution Should I Use for Training for Deep Neural Network?” ResearchGate, 7 Oct. 2016, https://www.researchgate.net/post/Which_Image_resolution_should_I_use_for_training_for_deep_neural_network.\n",
    "\n",
    "3)<br>\n",
    "Ofir AttiaOfir Attia 1, et al. “Convert Image ( Png ) To Matrix And Then To 1D Array.” Stack Overflow, 1 Apr. 2018, https://stackoverflow.com/questions/15612373/convert-image-png-to-matrix-and-then-to-1d-array. \n",
    "\n",
    "4)<br>\n",
    "Subasi, Caglar. “LOGISTIC REGRESSION CLASSIFIER.” Medium, Towards Data Science, 2 Apr. 2019, https://towardsdatascience.com/logistic-regression-classifier-8583e0c3cf9.\n",
    "\n",
    "5)<br>\n",
    "Sheth, Vatsal. “MultiClass Classification Using K-Nearest Neighbours.” Medium, Towards Data Science, 9 Nov. 2020, https://towardsdatascience.com/multiclass-classification-using-k-nearest-neighbours-ca5281a9ef76.\n",
    "\n",
    "6)<br>\n",
    "Nooney, Kartik. “Deep Dive into Multi-Label Classification..! (With Detailed Case Study).” Medium, Towards Data Science, 12 Feb. 2019, https://towardsdatascience.com/journey-to-the-center-of-multi-label-classification-384c40229bff. \n",
    "\n",
    "7)<br>\n",
    "Vickery, Rebecca. “A Simple Guide to Scikit-Learn Pipelines.” Medium, Vickdata, 26 July 2019, https://medium.com/vickdata/a-simple-guide-to-scikit-learn-pipelines-4ac0d974bdcf.\n",
    "\n",
    "8)<br>\n",
    "“Sklearn.pipeline.Pipeline¶.” Scikit, https://scikit-learn.org/stable/modules/generated/sklearn.pipeline.Pipeline.html. \n",
    "\n",
    "9)<br>\n",
    "Banerjee, Alekhyo. “Computational Complexity of SVM.” Medium, Medium, 31 Aug. 2020, alekhyo.medium.com/computational-complexity-of-svm-4d3cacf2f952. \n",
    "\n",
    "10)<br>\n",
    "“What Do We Do About the Biases in AI?” Harvard Business Review, 25 Oct. 2019, https://alekhyo.medium.com/computational-complexity-of-svm-4d3cacf2f952.\n",
    "\n",
    "11)<br>\n",
    "Hao, Karen. “This Is How AI Bias Really Happens-and Why It's so Hard to Fix.” MIT Technology Review, MIT Technology Review, 2 Apr. 2020, www.technologyreview.com/2019/02/04/137602/this-is-how-ai-bias-really-happensand-why-its-so-hard-to-fix/."
   ]
  }
 ],
 "metadata": {
  "kernelspec": {
   "display_name": "Python 3",
   "language": "python",
   "name": "python3"
  },
  "language_info": {
   "codemirror_mode": {
    "name": "ipython",
    "version": 3
   },
   "file_extension": ".py",
   "mimetype": "text/x-python",
   "name": "python",
   "nbconvert_exporter": "python",
   "pygments_lexer": "ipython3",
   "version": "3.7.3"
  }
 },
 "nbformat": 4,
 "nbformat_minor": 2
}
